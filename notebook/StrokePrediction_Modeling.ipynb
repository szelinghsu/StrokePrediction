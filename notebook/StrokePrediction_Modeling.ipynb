{
 "cells": [
  {
   "cell_type": "code",
   "execution_count": 1,
   "metadata": {},
   "outputs": [],
   "source": [
    "# Import packages\n",
    "import numpy as np\n",
    "import pandas as pd\n",
    "import matplotlib.pyplot as plt\n",
    "import seaborn as sns"
   ]
  },
  {
   "cell_type": "code",
   "execution_count": 2,
   "metadata": {},
   "outputs": [
    {
     "name": "stdout",
     "output_type": "stream",
     "text": [
      "<class 'pandas.core.frame.DataFrame'>\n",
      "RangeIndex: 5109 entries, 0 to 5108\n",
      "Data columns (total 11 columns):\n",
      " #   Column             Non-Null Count  Dtype  \n",
      "---  ------             --------------  -----  \n",
      " 0   gender             5109 non-null   object \n",
      " 1   age                5109 non-null   float64\n",
      " 2   hypertension       5109 non-null   int64  \n",
      " 3   heart_disease      5109 non-null   int64  \n",
      " 4   ever_married       5109 non-null   object \n",
      " 5   work_type          5109 non-null   object \n",
      " 6   Residence_type     5109 non-null   object \n",
      " 7   avg_glucose_level  5109 non-null   float64\n",
      " 8   bmi                5109 non-null   float64\n",
      " 9   smoking_status     5109 non-null   object \n",
      " 10  stroke             5109 non-null   int64  \n",
      "dtypes: float64(3), int64(3), object(5)\n",
      "memory usage: 439.2+ KB\n"
     ]
    }
   ],
   "source": [
    "# Import preprocessed data file\n",
    "stroke = pd.read_csv('../Dataset/healthcare-dataset-stroke-data-cleaned.csv')\n",
    "stroke.info()"
   ]
  },
  {
   "cell_type": "markdown",
   "metadata": {},
   "source": [
    "### Prepare train and test datasets"
   ]
  },
  {
   "cell_type": "code",
   "execution_count": 3,
   "metadata": {},
   "outputs": [],
   "source": [
    "from sklearn.model_selection import train_test_split\n",
    "import category_encoders as ce\n",
    "from sklearn.preprocessing import RobustScaler"
   ]
  },
  {
   "cell_type": "code",
   "execution_count": 4,
   "metadata": {},
   "outputs": [
    {
     "name": "stderr",
     "output_type": "stream",
     "text": [
      "C:\\Users\\c_lin\\anaconda3\\lib\\site-packages\\category_encoders\\utils.py:21: FutureWarning: is_categorical is deprecated and will be removed in a future version.  Use is_categorical_dtype instead\n",
      "  elif pd.api.types.is_categorical(cols):\n"
     ]
    }
   ],
   "source": [
    "# Prepare the train and test datasets\n",
    "X = stroke.drop('stroke', axis='columns')\n",
    "y = stroke['stroke']\n",
    "X_train, X_test, y_train, y_test = train_test_split(X, y, test_size=0.2, stratify=y, random_state=123)\n",
    "\n",
    "# Create categorical encoder for the categorial variables\n",
    "cat_cols = ['gender', 'hypertension', 'heart_disease', 'ever_married', 'work_type', 'Residence_type', 'smoking_status']\n",
    "encoder = ce.OneHotEncoder(cols=cat_cols, handle_unknown='return_nan', return_df=True, use_cat_names=True)\n",
    "X_train_encoded = encoder.fit_transform(X_train)\n",
    "\n",
    "# Create scaler for the numerical variables\n",
    "scaler = RobustScaler()\n",
    "X_train_scaled = pd.DataFrame(scaler.fit_transform(X_train[['age', 'avg_glucose_level', 'bmi']]))\n",
    "X_train_scaled.columns = ['age', 'avg_glucose_level', 'bmi']\n",
    "\n",
    "# Combine the encoded and scaled variables\n",
    "X_train_processed = pd.concat([X_train_encoded.drop(['age', 'avg_glucose_level', 'bmi'], axis=1).reset_index(drop=True), X_train_scaled], axis=1)\n",
    "\n",
    "# Encode the categorical variables and scale the numerical variables of the test dataset\n",
    "X_test_encoded = encoder.transform(X_test)\n",
    "X_test_scaled = pd.DataFrame(scaler.transform(X_test[['age', 'avg_glucose_level', 'bmi']]))\n",
    "X_test_processed = pd.concat([X_test_encoded.drop(['age', 'avg_glucose_level', 'bmi'], axis=1).reset_index(drop=True), X_test_scaled], axis=1)"
   ]
  },
  {
   "cell_type": "markdown",
   "metadata": {},
   "source": [
    "### Building predictive models"
   ]
  },
  {
   "cell_type": "code",
   "execution_count": 5,
   "metadata": {},
   "outputs": [],
   "source": [
    "from sklearn.linear_model import LogisticRegression\n",
    "from sklearn.neighbors import KNeighborsClassifier\n",
    "from sklearn.tree import DecisionTreeClassifier\n",
    "from sklearn.ensemble import RandomForestClassifier\n",
    "from sklearn.ensemble import GradientBoostingClassifier\n",
    "from xgboost import XGBClassifier\n",
    "from sklearn.model_selection import RandomizedSearchCV\n",
    "from sklearn.metrics import accuracy_score, confusion_matrix, classification_report\n",
    "from sklearn.metrics import roc_curve, roc_auc_score\n",
    "from scipy.stats import loguniform\n",
    "from sklearn.inspection import plot_partial_dependence"
   ]
  },
  {
   "cell_type": "markdown",
   "metadata": {},
   "source": [
    "#### First model: Logistic Regression"
   ]
  },
  {
   "cell_type": "code",
   "execution_count": 6,
   "metadata": {},
   "outputs": [],
   "source": [
    "model_LR = LogisticRegression()\n",
    "model_LR.fit(X_train_processed, y_train)\n",
    "predict_LR = model_LR.predict(X_test_processed)"
   ]
  },
  {
   "cell_type": "code",
   "execution_count": 7,
   "metadata": {},
   "outputs": [
    {
     "name": "stdout",
     "output_type": "stream",
     "text": [
      "Train accuracy: 0.9515537068754588\n",
      "Test accuracy: 0.9510763209393346\n"
     ]
    }
   ],
   "source": [
    "# Let's take a look at the model's accuracy\n",
    "train_accuracy = accuracy_score(y_train, model_LR.predict(X_train_processed))\n",
    "test_accuracy = accuracy_score(y_test, predict_LR)\n",
    "print(\"Train accuracy:\", train_accuracy)\n",
    "print(\"Test accuracy:\", test_accuracy)"
   ]
  },
  {
   "cell_type": "code",
   "execution_count": 8,
   "metadata": {},
   "outputs": [
    {
     "name": "stdout",
     "output_type": "stream",
     "text": [
      "Confusion matrix:\n",
      " [[972   0]\n",
      " [ 50   0]]\n",
      "\n",
      "Classification report:\n",
      "               precision    recall  f1-score   support\n",
      "\n",
      "           0       0.95      1.00      0.97       972\n",
      "           1       0.00      0.00      0.00        50\n",
      "\n",
      "    accuracy                           0.95      1022\n",
      "   macro avg       0.48      0.50      0.49      1022\n",
      "weighted avg       0.90      0.95      0.93      1022\n",
      "\n"
     ]
    },
    {
     "name": "stderr",
     "output_type": "stream",
     "text": [
      "C:\\Users\\c_lin\\anaconda3\\lib\\site-packages\\sklearn\\metrics\\_classification.py:1221: UndefinedMetricWarning: Precision and F-score are ill-defined and being set to 0.0 in labels with no predicted samples. Use `zero_division` parameter to control this behavior.\n",
      "  _warn_prf(average, modifier, msg_start, len(result))\n"
     ]
    }
   ],
   "source": [
    "print(\"Confusion matrix:\\n\", confusion_matrix(y_test, predict_LR))\n",
    "print(\"\\nClassification report:\\n\", classification_report(y_test, predict_LR))"
   ]
  },
  {
   "cell_type": "markdown",
   "metadata": {},
   "source": [
    "Our first model yields pretty high train set and test set accuracies (~95%).  However, in the medical setting, it is common to look at specificity and sensitivity to evaluate medical test.  Specificity is the proportion of correct negative results which is also known as the True Negative Rate.  Sensitivity is the proportion of correct positive results which is known as the True Positive Rate and is also called Recall. \n",
    "\n",
    "$$\n",
    "Specificity = \\frac{True Negative (TN)}{True Negative (TN) + False Positive (FP)}\n",
    "$$\n",
    "\n",
    "$$\n",
    "Sensitivity = \\frac{True Positive (TP)}{True Positive (TP) + False Negative (FN)}\n",
    "$$"
   ]
  },
  {
   "cell_type": "markdown",
   "metadata": {},
   "source": [
    "From our model prediction, we see that even though the train and test sets accuracies are very high, the sensitivity or recall rate on the minority class (class 1) is 0% because none of the positive case was being captured. That means none of the patient who has stroke was labeled correctly.\n",
    "\n",
    "Many machine learning algorithms have the default threshold set at 0.5 for interpreting probabilities to class labels. All values equal or greater than the threshold are mapped to one class and all other values are mapped to another class. We can plot the distribution of the predicted probabilities for class 1."
   ]
  },
  {
   "cell_type": "code",
   "execution_count": 9,
   "metadata": {},
   "outputs": [
    {
     "data": {
      "text/plain": [
       "<AxesSubplot:>"
      ]
     },
     "execution_count": 9,
     "metadata": {},
     "output_type": "execute_result"
    },
    {
     "data": {
      "image/png": "[encoded data removed]",
      "text/plain": [
       "<Figure size 432x288 with 1 Axes>"
      ]
     },
     "metadata": {
      "needs_background": "light"
     },
     "output_type": "display_data"
    }
   ],
   "source": [
    "# The predict probability of the positive outcome only\n",
    "prob_1 = model_LR.predict_proba(X_test_processed)[:, 1]\n",
    "pd.Series(prob_1).hist(bins=50)"
   ]
  },
  {
   "cell_type": "markdown",
   "metadata": {},
   "source": [
    "The plot shows all of the class 1 predicted probabilities is less than 0.5. This is why all the positive class samples were mislabeled.  This proves that the imbalanced dataset leads to learning bias on the majority class (class 0). "
   ]
  },
  {
   "cell_type": "markdown",
   "metadata": {},
   "source": [
    "Let's plot the ROC Curve which focuses on the performance on the minority class only."
   ]
  },
  {
   "cell_type": "code",
   "execution_count": 10,
   "metadata": {},
   "outputs": [
    {
     "data": {
      "image/png": "[encoded data removed]",
      "text/plain": [
       "<Figure size 432x288 with 1 Axes>"
      ]
     },
     "metadata": {
      "needs_background": "light"
     },
     "output_type": "display_data"
    }
   ],
   "source": [
    "fpr, tpr, thresholds = roc_curve(y_test, prob_1)\n",
    "plt.plot(fpr, tpr, marker='.', label='Logistic Regression')\n",
    "plt.title('ROC Curve')\n",
    "plt.xlabel('False Positive Rate')\n",
    "plt.ylabel('True Positive Rate')\n",
    "plt.legend()\n",
    "plt.show()"
   ]
  },
  {
   "cell_type": "markdown",
   "metadata": {},
   "source": [
    "The area under the ROC Curve is commonly used for comparing classification models for imbalanced dataset."
   ]
  },
  {
   "cell_type": "code",
   "execution_count": 11,
   "metadata": {},
   "outputs": [
    {
     "name": "stdout",
     "output_type": "stream",
     "text": [
      "Model AUC score is 0.8593415637860082\n"
     ]
    }
   ],
   "source": [
    "auc = roc_auc_score(y_test, prob_1)\n",
    "print(\"Model AUC score is\", auc)"
   ]
  },
  {
   "cell_type": "markdown",
   "metadata": {},
   "source": [
    "In order to improve the recall rate, we will use a method called Threshold-moving to tune the threshold which used to map the probabilities to class labels to improve the performance of our classifier.  In order to find the optimal threshold that results in the best balance of true positive rate and false positive rate, we will use the Youden's J statistic to help finding the optimal threshold."
   ]
  },
  {
   "cell_type": "code",
   "execution_count": 12,
   "metadata": {},
   "outputs": [],
   "source": [
    "# A function to find the optimal threshold having the best Youden's J-score\n",
    "def best_threshold(fpr, tpr, thresh):\n",
    "    # define a range of thresholds\n",
    "    J = tpr - fpr\n",
    "    idx = np.argmax(J)\n",
    "    best_thresh = thresh[idx]\n",
    "    return best_thresh"
   ]
  },
  {
   "cell_type": "code",
   "execution_count": 13,
   "metadata": {},
   "outputs": [
    {
     "name": "stdout",
     "output_type": "stream",
     "text": [
      "Best threshold is 0.08224323381322148\n"
     ]
    }
   ],
   "source": [
    "best_thresh = best_threshold(fpr, tpr, thresholds)\n",
    "print(\"Best threshold is {}\".format(best_thresh))"
   ]
  },
  {
   "cell_type": "code",
   "execution_count": 14,
   "metadata": {},
   "outputs": [
    {
     "name": "stdout",
     "output_type": "stream",
     "text": [
      "Confusion matrix:\n",
      " [[808 164]\n",
      " [ 13  37]]\n",
      "\n",
      "Classification report:\n",
      "               precision    recall  f1-score   support\n",
      "\n",
      "           0       0.98      0.83      0.90       972\n",
      "           1       0.18      0.74      0.29        50\n",
      "\n",
      "    accuracy                           0.83      1022\n",
      "   macro avg       0.58      0.79      0.60      1022\n",
      "weighted avg       0.95      0.83      0.87      1022\n",
      "\n",
      "Test accuracy: 0.8268101761252447\n"
     ]
    }
   ],
   "source": [
    "# Performance of the classifier with the best threshold\n",
    "predict_LR_opt_thresh = np.where(prob_1 > best_thresh, 1, 0)\n",
    "cm = confusion_matrix(y_test, predict_LR_opt_thresh)\n",
    "print(\"Confusion matrix:\\n\", cm)\n",
    "print(\"\\nClassification report:\\n\", classification_report(y_test, predict_LR_opt_thresh))\n",
    "test_accuracy = accuracy_score(y_test, predict_LR_opt_thresh)\n",
    "print(\"Test accuracy:\", test_accuracy)"
   ]
  },
  {
   "cell_type": "markdown",
   "metadata": {},
   "source": [
    "We see that the recall rate increases from 0% to 88%!"
   ]
  },
  {
   "cell_type": "markdown",
   "metadata": {},
   "source": [
    "From the above equations calculating the specificity and sensitivity, the True Positive, False Positive, and False Negative rates are used.  However, the True Negative rate is not taken into account.  The True Negative rate is very important in the medical setting.  You do not want to tell a 'false alarm' result to a patient who does not have a stroke which will cause a lot of emotional stress to the patient. \n",
    "\n",
    "In order to take into account all four positive and negative rates, a combined single indicator, the Diagnostic Odds ratio (DOR), is used in the medical world.  DOR is a measurement of the diagnostic accuracy of a test.  It is the ratio of the Positive Likelihood Ratio LR+ (the probability of detection) to the Negative Likelihood Ratio LR- (the probabiliy of false alarm).  \n",
    "\n",
    "$$\n",
    "DOR = \\frac{LR+}{LR-} = \\frac{\\frac{TP}{Fp}}{\\frac{FN}{FN}}\n",
    "$$"
   ]
  },
  {
   "cell_type": "markdown",
   "metadata": {},
   "source": [
    "Calculate the Diagnostic Odds ratio (DOR) of our model."
   ]
  },
  {
   "cell_type": "code",
   "execution_count": 15,
   "metadata": {},
   "outputs": [],
   "source": [
    "def DOR(cm):\n",
    "    TN = cm[0][0] # True negative\n",
    "    FP = cm[0][1] # False positive\n",
    "    FN = cm[1][0] # False negative\n",
    "    TP = cm[1][1] # True positive\n",
    "\n",
    "    dor = (TP / FP) / (FN / TN)\n",
    "    return dor"
   ]
  },
  {
   "cell_type": "code",
   "execution_count": 16,
   "metadata": {},
   "outputs": [
    {
     "name": "stdout",
     "output_type": "stream",
     "text": [
      "Model DOR score is 14.022514071294559\n"
     ]
    }
   ],
   "source": [
    "dor = DOR(cm)\n",
    "print(\"Model DOR score is\", dor)"
   ]
  },
  {
   "cell_type": "code",
   "execution_count": 17,
   "metadata": {},
   "outputs": [],
   "source": [
    "# store model performance\n",
    "\n",
    "performance = {'Model': [],\n",
    "               'Train accuracy': [],\n",
    "               'Test accuracy': [],\n",
    "               'ROC AUC score': [],\n",
    "               'DOR score': [],\n",
    "               'Best threshold': []}\n",
    "\n",
    "def performance_report(performance, model_name, train_accuracy, test_accuracy, auc, dor, best_thresh):\n",
    "    performance['Model'].append(model_name)\n",
    "    performance['Train accuracy'].append(train_accuracy)\n",
    "    performance['Test accuracy'].append(test_accuracy)\n",
    "    performance['ROC AUC score'].append(auc)\n",
    "    performance['DOR score'].append(dor)\n",
    "    performance['Best threshold'].append(best_thresh)\n",
    "    \n",
    "performance_report(performance, 'Logistic Regression', train_accuracy, test_accuracy, auc, dor, best_thresh)"
   ]
  },
  {
   "cell_type": "code",
   "execution_count": 18,
   "metadata": {},
   "outputs": [
    {
     "name": "stdout",
     "output_type": "stream",
     "text": [
      "                 Model  Train accuracy  Test accuracy  ROC AUC score  \\\n",
      "0  Logistic Regression        0.951554        0.82681       0.859342   \n",
      "\n",
      "   DOR score  Best threshold  \n",
      "0  14.022514        0.082243  \n"
     ]
    }
   ],
   "source": [
    "per = pd.DataFrame(performance)\n",
    "print(per)"
   ]
  },
  {
   "cell_type": "markdown",
   "metadata": {},
   "source": [
    "#### Build baseline KNN, Decision Tree, Random Forest and Gradient Boost baseline models"
   ]
  },
  {
   "cell_type": "code",
   "execution_count": 19,
   "metadata": {},
   "outputs": [
    {
     "name": "stdout",
     "output_type": "stream",
     "text": [
      "----------K-Neighbors----------\n",
      "\n",
      "Confusion matrix:\n",
      " [[937  35]\n",
      " [ 43   7]]\n",
      "\n",
      "Classification report:\n",
      "               precision    recall  f1-score   support\n",
      "\n",
      "           0       0.96      0.96      0.96       972\n",
      "           1       0.17      0.14      0.15        50\n",
      "\n",
      "    accuracy                           0.92      1022\n",
      "   macro avg       0.56      0.55      0.56      1022\n",
      "weighted avg       0.92      0.92      0.92      1022\n",
      "\n",
      "----------Decision Tree----------\n",
      "\n",
      "Confusion matrix:\n",
      " [[972   0]\n",
      " [ 50   0]]\n",
      "\n",
      "Classification report:\n",
      "               precision    recall  f1-score   support\n",
      "\n",
      "           0       0.95      1.00      0.97       972\n",
      "           1       0.00      0.00      0.00        50\n",
      "\n",
      "    accuracy                           0.95      1022\n",
      "   macro avg       0.48      0.50      0.49      1022\n",
      "weighted avg       0.90      0.95      0.93      1022\n",
      "\n"
     ]
    },
    {
     "name": "stderr",
     "output_type": "stream",
     "text": [
      "<ipython-input-15-ec72ec02660f>:7: RuntimeWarning: invalid value encountered in longlong_scalars\n",
      "  dor = (TP / FP) / (FN / TN)\n",
      "C:\\Users\\c_lin\\anaconda3\\lib\\site-packages\\sklearn\\metrics\\_classification.py:1221: UndefinedMetricWarning: Precision and F-score are ill-defined and being set to 0.0 in labels with no predicted samples. Use `zero_division` parameter to control this behavior.\n",
      "  _warn_prf(average, modifier, msg_start, len(result))\n"
     ]
    },
    {
     "name": "stdout",
     "output_type": "stream",
     "text": [
      "----------Random Forest----------\n",
      "\n",
      "Confusion matrix:\n",
      " [[753 219]\n",
      " [ 15  35]]\n",
      "\n",
      "Classification report:\n",
      "               precision    recall  f1-score   support\n",
      "\n",
      "           0       0.98      0.77      0.87       972\n",
      "           1       0.14      0.70      0.23        50\n",
      "\n",
      "    accuracy                           0.77      1022\n",
      "   macro avg       0.56      0.74      0.55      1022\n",
      "weighted avg       0.94      0.77      0.83      1022\n",
      "\n",
      "----------Gradient Boosting----------\n",
      "\n",
      "Confusion matrix:\n",
      " [[721 251]\n",
      " [  8  42]]\n",
      "\n",
      "Classification report:\n",
      "               precision    recall  f1-score   support\n",
      "\n",
      "           0       0.99      0.74      0.85       972\n",
      "           1       0.14      0.84      0.24        50\n",
      "\n",
      "    accuracy                           0.75      1022\n",
      "   macro avg       0.57      0.79      0.55      1022\n",
      "weighted avg       0.95      0.75      0.82      1022\n",
      "\n"
     ]
    }
   ],
   "source": [
    "# Build baseline models\n",
    "model_KNN = KNeighborsClassifier()\n",
    "model_DT = DecisionTreeClassifier()\n",
    "model_RF = RandomForestClassifier()\n",
    "model_GB = GradientBoostingClassifier()\n",
    "\n",
    "models = [['K-Neighbors', model_KNN],\n",
    "          ['Decision Tree',  model_DT],\n",
    "          ['Random Forest', model_RF],\n",
    "          ['Gradient Boosting', model_GB]]\n",
    "\n",
    "for model_name, model in models:\n",
    "    model.fit(X_train_encoded, y_train)\n",
    "    prob_1 = model.predict_proba(X_test_encoded)[:, 1]\n",
    "    \n",
    "    auc = roc_auc_score(y_test, prob_1)\n",
    "    \n",
    "    fpr, tpr, thresholds = roc_curve(y_test, prob_1)\n",
    "    best_thresh = best_threshold(fpr, tpr, thresholds)\n",
    "    \n",
    "    predict_opt_thresh = np.where(prob_1 > best_thresh, 1, 0)\n",
    "    cm = confusion_matrix(y_test, predict_opt_thresh)\n",
    "    \n",
    "    dor = DOR(cm)\n",
    "    \n",
    "    print(\"----------\" + model_name + \"----------\\n\")\n",
    "    print(\"Confusion matrix:\\n\", cm)\n",
    "    print(\"\\nClassification report:\\n\", classification_report(y_test, predict_opt_thresh))\n",
    "\n",
    "    train_accuracy = accuracy_score(y_train, model.predict(X_train_encoded))\n",
    "    test_accuracy = accuracy_score(y_test, predict_opt_thresh)\n",
    "    \n",
    "    performance_report(performance, model_name, train_accuracy, test_accuracy, auc, dor, best_thresh)"
   ]
  },
  {
   "cell_type": "code",
   "execution_count": 20,
   "metadata": {},
   "outputs": [
    {
     "name": "stdout",
     "output_type": "stream",
     "text": [
      "                 Model  Train accuracy  Test accuracy  ROC AUC score  \\\n",
      "4    Gradient Boosting        0.959139       0.746575       0.861780   \n",
      "0  Logistic Regression        0.951554       0.826810       0.859342   \n",
      "3        Random Forest        0.999755       0.771037       0.789712   \n",
      "1          K-Neighbors        0.951798       0.923679       0.709198   \n",
      "2        Decision Tree        1.000000       0.951076       0.567593   \n",
      "\n",
      "   DOR score  Best threshold  \n",
      "4  15.080677        0.048700  \n",
      "0  14.022514        0.082243  \n",
      "3   8.022831        0.070000  \n",
      "1   4.358140        0.200000  \n",
      "2        NaN        1.000000  \n"
     ]
    }
   ],
   "source": [
    "print(pd.DataFrame(performance).sort_values(by = ['DOR score', 'ROC AUC score'], ascending=False))"
   ]
  },
  {
   "cell_type": "markdown",
   "metadata": {},
   "source": [
    "#### Build XGBoost model"
   ]
  },
  {
   "cell_type": "markdown",
   "metadata": {},
   "source": [
    "According to the results of the baseline models, Gradient Boosting model has the highest ROC AUC score.  We will use XGBoost to build an ensemble model to see if we can get a better result."
   ]
  },
  {
   "cell_type": "code",
   "execution_count": 21,
   "metadata": {},
   "outputs": [
    {
     "name": "stdout",
     "output_type": "stream",
     "text": [
      "Confusion matrix:\n",
      " [[960  12]\n",
      " [ 46   4]]\n",
      "\n",
      "Classification report:\n",
      "               precision    recall  f1-score   support\n",
      "\n",
      "           0       0.95      0.99      0.97       972\n",
      "           1       0.25      0.08      0.12        50\n",
      "\n",
      "    accuracy                           0.94      1022\n",
      "   macro avg       0.60      0.53      0.55      1022\n",
      "weighted avg       0.92      0.94      0.93      1022\n",
      "\n"
     ]
    },
    {
     "name": "stderr",
     "output_type": "stream",
     "text": [
      "C:\\Users\\c_lin\\anaconda3\\lib\\site-packages\\xgboost\\data.py:112: UserWarning: Use subset (sliced data) of np.ndarray is not recommended because it will generate extra copies and increase memory consumption\n",
      "  warnings.warn(\n"
     ]
    }
   ],
   "source": [
    "# Build baseline XGBoost model\n",
    "model_XGB = XGBClassifier(objective='binary:logistic', use_label_encoder=False, \n",
    "                          eval_metric='auc', seed=7)\n",
    "model_XGB.fit(X_train_encoded, y_train)\n",
    "predict_XGB = model_XGB.predict(X_test_encoded)\n",
    "print(\"Confusion matrix:\\n\", confusion_matrix(y_test, predict_XGB))\n",
    "print(\"\\nClassification report:\\n\", classification_report(y_test, predict_XGB))"
   ]
  },
  {
   "cell_type": "markdown",
   "metadata": {},
   "source": [
    "We will also need to move the threshold in order to get a better recall rate.  The *scale_pos_weight* parameter in XGBoost is for tuning the threshold.  A typical value for the weight is the ratio of the negative class to positive class."
   ]
  },
  {
   "cell_type": "code",
   "execution_count": 22,
   "metadata": {},
   "outputs": [
    {
     "data": {
      "text/plain": [
       "19.537688442211056"
      ]
     },
     "execution_count": 22,
     "metadata": {},
     "output_type": "execute_result"
    }
   ],
   "source": [
    "class_count = y_train.value_counts()\n",
    "weight = class_count[0] / class_count[1]\n",
    "weight"
   ]
  },
  {
   "cell_type": "code",
   "execution_count": 23,
   "metadata": {},
   "outputs": [
    {
     "name": "stdout",
     "output_type": "stream",
     "text": [
      "---------- Positive weight = 20 ----------\n",
      "\n",
      "Confusion matrix:\n",
      " [[931  41]\n",
      " [ 41   9]]\n",
      "\n",
      "Classification report:\n",
      "               precision    recall  f1-score   support\n",
      "\n",
      "           0       0.96      0.96      0.96       972\n",
      "           1       0.18      0.18      0.18        50\n",
      "\n",
      "    accuracy                           0.92      1022\n",
      "   macro avg       0.57      0.57      0.57      1022\n",
      "weighted avg       0.92      0.92      0.92      1022\n",
      "\n"
     ]
    }
   ],
   "source": [
    "model_XGB = XGBClassifier(objective='binary:logistic', use_label_encoder=False, \n",
    "                          scale_pos_weight=weight, eval_metric='auc', seed=123)\n",
    "model_XGB.fit(X_train_encoded, y_train)\n",
    "predict_XGB = model_XGB.predict(X_test_encoded)\n",
    "print(\"---------- Positive weight = 20 ----------\\n\")\n",
    "cm = confusion_matrix(y_test, predict_XGB)\n",
    "print(\"Confusion matrix:\\n\", cm)\n",
    "print(\"\\nClassification report:\\n\", classification_report(y_test, predict_XGB))\n",
    "\n",
    "train_accuracy = accuracy_score(y_train, model_XGB.predict(X_train_encoded))\n",
    "test_accuracy = accuracy_score(y_test, predict_XGB)\n",
    "auc = roc_auc_score(y_test, model_XGB.predict_proba(X_test_encoded)[:, 1])\n",
    "dor = DOR(cm)"
   ]
  },
  {
   "cell_type": "code",
   "execution_count": 24,
   "metadata": {},
   "outputs": [],
   "source": [
    "performance_report(performance, 'XGBoost', train_accuracy, test_accuracy, auc, dor, (1/weight))"
   ]
  },
  {
   "cell_type": "code",
   "execution_count": 25,
   "metadata": {},
   "outputs": [
    {
     "name": "stdout",
     "output_type": "stream",
     "text": [
      "                 Model  Train accuracy  Test accuracy  ROC AUC score  \\\n",
      "4    Gradient Boosting        0.959139       0.746575       0.861780   \n",
      "0  Logistic Regression        0.951554       0.826810       0.859342   \n",
      "3        Random Forest        0.999755       0.771037       0.789712   \n",
      "5              XGBoost        0.994372       0.919765       0.809465   \n",
      "1          K-Neighbors        0.951798       0.923679       0.709198   \n",
      "2        Decision Tree        1.000000       0.951076       0.567593   \n",
      "\n",
      "   DOR score  Best threshold  \n",
      "4  15.080677        0.048700  \n",
      "0  14.022514        0.082243  \n",
      "3   8.022831        0.070000  \n",
      "5   4.984533        0.051183  \n",
      "1   4.358140        0.200000  \n",
      "2        NaN        1.000000  \n"
     ]
    }
   ],
   "source": [
    "print(pd.DataFrame(performance).sort_values(by = ['DOR score', 'ROC AUC score'], ascending=False))"
   ]
  },
  {
   "cell_type": "markdown",
   "metadata": {},
   "source": [
    "### Hyperparameters Tuning"
   ]
  },
  {
   "cell_type": "markdown",
   "metadata": {},
   "source": [
    "#### Logistic Regression model tuning"
   ]
  },
  {
   "cell_type": "code",
   "execution_count": 26,
   "metadata": {},
   "outputs": [
    {
     "name": "stdout",
     "output_type": "stream",
     "text": [
      "Tuned Logistic Regression Parameters: {'C': 1.4196401564925063, 'penalty': 'l2'}\n"
     ]
    }
   ],
   "source": [
    "# Tuning hyperparameters\n",
    "param_grid_lr = {'C': loguniform(1e-5, 100), 'penalty': ['l2']}\n",
    "\n",
    "model_LR_cv = RandomizedSearchCV(model_LR, param_grid_lr, scoring='roc_auc', cv=5)\n",
    "model_LR_cv.fit(X_train_processed, y_train)\n",
    "\n",
    "best_model = model_LR_cv.best_estimator_\n",
    "print(\"Tuned Logistic Regression Parameters: {}\".format(model_LR_cv.best_params_))\n",
    "predict_LR_tuned = best_model.predict(X_test_processed)\n",
    "\n",
    "prob_1 = best_model.predict_proba(X_test_processed)[:, 1]\n",
    "\n",
    "auc = roc_auc_score(y_test, prob_1)\n",
    "    \n",
    "fpr, tpr, thresholds = roc_curve(y_test, prob_1)\n",
    "best_thresh = best_threshold(fpr, tpr, thresholds)\n",
    "    \n",
    "predict_opt_thresh = np.where(prob_1 > best_thresh, 1, 0)\n",
    "cm = confusion_matrix(y_test, predict_opt_thresh)\n",
    "dor = DOR(cm)\n",
    "\n",
    "train_accuracy = accuracy_score(y_train, best_model.predict(X_train_processed))\n",
    "test_accuracy = accuracy_score(y_test, predict_opt_thresh)\n",
    "\n",
    "performance_report(performance, 'Tuned Logistic Regression', train_accuracy, test_accuracy, auc, dor, best_thresh)"
   ]
  },
  {
   "cell_type": "code",
   "execution_count": 27,
   "metadata": {},
   "outputs": [
    {
     "name": "stdout",
     "output_type": "stream",
     "text": [
      "                       Model  Train accuracy  Test accuracy  ROC AUC score  \\\n",
      "6  Tuned Logistic Regression        0.951554       0.701566       0.859115   \n",
      "4          Gradient Boosting        0.959139       0.746575       0.861780   \n",
      "0        Logistic Regression        0.951554       0.826810       0.859342   \n",
      "3              Random Forest        0.999755       0.771037       0.789712   \n",
      "5                    XGBoost        0.994372       0.919765       0.809465   \n",
      "1                K-Neighbors        0.951798       0.923679       0.709198   \n",
      "2              Decision Tree        1.000000       0.951076       0.567593   \n",
      "\n",
      "   DOR score  Best threshold  \n",
      "6  16.506132        0.042314  \n",
      "4  15.080677        0.048700  \n",
      "0  14.022514        0.082243  \n",
      "3   8.022831        0.070000  \n",
      "5   4.984533        0.051183  \n",
      "1   4.358140        0.200000  \n",
      "2        NaN        1.000000  \n"
     ]
    }
   ],
   "source": [
    "print(pd.DataFrame(performance).sort_values(by = ['DOR score', 'ROC AUC score'], ascending=False))"
   ]
  },
  {
   "cell_type": "markdown",
   "metadata": {},
   "source": [
    "#### Random Forest model tuning"
   ]
  },
  {
   "cell_type": "code",
   "execution_count": 28,
   "metadata": {},
   "outputs": [
    {
     "name": "stdout",
     "output_type": "stream",
     "text": [
      "Tuned Random Forest Parameter: {'n_estimators': 350, 'min_samples_split': 37, 'min_samples_leaf': 67, 'max_depth': 5}\n"
     ]
    }
   ],
   "source": [
    "# Tuning hyperparameters\n",
    "param_grid_rf = {'n_estimators': [x for x in range(50,500,50)],\n",
    "                 'min_samples_split': [x for x in range(10,100)],\n",
    "                 'min_samples_leaf': [x for x in range(10,100)],\n",
    "                 'max_depth': [x for x in range(1,11)]\n",
    "}\n",
    "\n",
    "model_RF_cv = RandomizedSearchCV(model_RF, param_grid_rf, scoring='roc_auc', cv=5)\n",
    "model_RF_cv.fit(X_train_encoded, y_train)\n",
    "best_model = model_RF_cv.best_estimator_\n",
    "print(\"Tuned Random Forest Parameter: {}\".format(model_RF_cv.best_params_))"
   ]
  },
  {
   "cell_type": "code",
   "execution_count": 29,
   "metadata": {},
   "outputs": [],
   "source": [
    "predict_RF_tuned = best_model.predict(X_test_encoded)\n",
    "prob_1 = best_model.predict_proba(X_test_encoded)[:, 1]\n",
    "\n",
    "auc = roc_auc_score(y_test, prob_1)\n",
    "    \n",
    "fpr, tpr, thresholds = roc_curve(y_test, prob_1)\n",
    "best_thresh = best_threshold(fpr, tpr, thresholds)\n",
    "    \n",
    "predict_opt_thresh = np.where(prob_1 > best_thresh, 1, 0)\n",
    "cm = confusion_matrix(y_test, predict_opt_thresh)\n",
    "dor = DOR(cm)\n",
    "\n",
    "train_accuracy = accuracy_score(y_train, best_model.predict(X_train_encoded))\n",
    "test_accuracy = accuracy_score(y_test, predict_opt_thresh)\n",
    "    \n",
    "performance_report(performance, 'Tuned Random Forest', train_accuracy, test_accuracy, auc, dor, best_thresh)"
   ]
  },
  {
   "cell_type": "markdown",
   "metadata": {},
   "source": [
    "#### Gradient Boosting model tuning"
   ]
  },
  {
   "cell_type": "code",
   "execution_count": 30,
   "metadata": {},
   "outputs": [
    {
     "name": "stdout",
     "output_type": "stream",
     "text": [
      "Tuned Random Forest Parameter: {'n_estimators': 60, 'min_samples_split': 75, 'min_samples_leaf': 34, 'max_depth': 2}\n"
     ]
    }
   ],
   "source": [
    "# Tuning hyperparameters\n",
    "param_grid_gb = {'n_estimators': [2, 4, 6, 8, 10, 20, 40, 60, 80, 100], # try between 100 to 500\n",
    "                 'min_samples_split': [x for x in range(10,100)],\n",
    "                 'min_samples_leaf': [x for x in range(10,100)],\n",
    "                 'max_depth': [x for x in range(1,11)]\n",
    "}\n",
    "\n",
    "model_GB_cv = RandomizedSearchCV(model_GB, param_grid_gb, scoring='roc_auc', cv=5)\n",
    "model_GB_cv.fit(X_train_encoded, y_train)\n",
    "best_model = model_GB_cv.best_estimator_\n",
    "print(\"Tuned Random Forest Parameter: {}\".format(model_GB_cv.best_params_))"
   ]
  },
  {
   "cell_type": "code",
   "execution_count": 31,
   "metadata": {},
   "outputs": [],
   "source": [
    "predict_GB_tuned = best_model.predict(X_test_encoded)\n",
    "prob_1 = best_model.predict_proba(X_test_encoded)[:, 1]\n",
    "\n",
    "auc = roc_auc_score(y_test, prob_1)\n",
    "    \n",
    "fpr, tpr, thresholds = roc_curve(y_test, prob_1)\n",
    "best_thresh = best_threshold(fpr, tpr, thresholds)\n",
    "    \n",
    "predict_opt_thresh = np.where(prob_1 > best_thresh, 1, 0)\n",
    "cm = confusion_matrix(y_test, predict_opt_thresh)\n",
    "dor = DOR(cm)\n",
    "\n",
    "train_accuracy = accuracy_score(y_train, best_model.predict(X_train_encoded))\n",
    "test_accuracy = accuracy_score(y_test, predict_opt_thresh)\n",
    "    \n",
    "performance_report(performance, 'Tuned Gradient Boosting', train_accuracy, test_accuracy, auc, dor, best_thresh)"
   ]
  },
  {
   "cell_type": "code",
   "execution_count": 32,
   "metadata": {},
   "outputs": [
    {
     "name": "stdout",
     "output_type": "stream",
     "text": [
      "                       Model  Train accuracy  Test accuracy  ROC AUC score  \\\n",
      "8    Tuned Gradient Boosting        0.951554       0.765166       0.875761   \n",
      "6  Tuned Logistic Regression        0.951554       0.701566       0.859115   \n",
      "7        Tuned Random Forest        0.951309       0.829746       0.858477   \n",
      "4          Gradient Boosting        0.959139       0.746575       0.861780   \n",
      "0        Logistic Regression        0.951554       0.826810       0.859342   \n",
      "3              Random Forest        0.999755       0.771037       0.789712   \n",
      "5                    XGBoost        0.994372       0.919765       0.809465   \n",
      "1                K-Neighbors        0.951798       0.923679       0.709198   \n",
      "2              Decision Tree        1.000000       0.951076       0.567593   \n",
      "\n",
      "   DOR score  Best threshold  \n",
      "8  19.483139        0.055254  \n",
      "6  16.506132        0.042314  \n",
      "7  15.833333        0.088429  \n",
      "4  15.080677        0.048700  \n",
      "0  14.022514        0.082243  \n",
      "3   8.022831        0.070000  \n",
      "5   4.984533        0.051183  \n",
      "1   4.358140        0.200000  \n",
      "2        NaN        1.000000  \n"
     ]
    }
   ],
   "source": [
    "per = pd.DataFrame(performance)\n",
    "print(per.sort_values(by = ['DOR score', 'ROC AUC score'], ascending=False))"
   ]
  },
  {
   "cell_type": "code",
   "execution_count": 33,
   "metadata": {},
   "outputs": [
    {
     "data": {
      "text/plain": [
       "<AxesSubplot:xlabel='ROC AUC score', ylabel='Model'>"
      ]
     },
     "execution_count": 33,
     "metadata": {},
     "output_type": "execute_result"
    },
    {
     "data": {
      "image/png": "[encoded data removed]",
      "text/plain": [
       "<Figure size 432x288 with 1 Axes>"
      ]
     },
     "metadata": {
      "needs_background": "light"
     },
     "output_type": "display_data"
    }
   ],
   "source": [
    "sns.barplot(data=per, x='ROC AUC score', y='Model')"
   ]
  },
  {
   "cell_type": "code",
   "execution_count": 34,
   "metadata": {},
   "outputs": [
    {
     "data": {
      "text/plain": [
       "<AxesSubplot:xlabel='DOR score', ylabel='Model'>"
      ]
     },
     "execution_count": 34,
     "metadata": {},
     "output_type": "execute_result"
    },
    {
     "data": {
      "image/png": "[encoded data removed]",
      "text/plain": [
       "<Figure size 432x288 with 1 Axes>"
      ]
     },
     "metadata": {
      "needs_background": "light"
     },
     "output_type": "display_data"
    }
   ],
   "source": [
    "sns.barplot(data=per, x='DOR score', y='Model')"
   ]
  },
  {
   "cell_type": "markdown",
   "metadata": {},
   "source": [
    "From the above performance report, the Tuned Gradient Boosting model has both the highest ROC AUC score and highest DOR score.  "
   ]
  },
  {
   "cell_type": "markdown",
   "metadata": {},
   "source": [
    "### Feature Importance"
   ]
  },
  {
   "cell_type": "code",
   "execution_count": 35,
   "metadata": {},
   "outputs": [
    {
     "data": {
      "image/png": "[encoded data removed]",
      "text/plain": [
       "<Figure size 576x576 with 1 Axes>"
      ]
     },
     "metadata": {
      "needs_background": "light"
     },
     "output_type": "display_data"
    }
   ],
   "source": [
    "feature_importance = model_GB.feature_importances_\n",
    "\n",
    "# make importances relative to max importance\n",
    "sorted_idx = np.argsort(feature_importance)\n",
    "\n",
    "pos = np.arange(sorted_idx.shape[0]) + .5\n",
    "sorted_idx.size\n",
    "plt.figure(figsize=(8,8))\n",
    "plt.barh(pos, feature_importance[sorted_idx], align='center')\n",
    "plt.yticks(pos, X_train_encoded.columns[sorted_idx])\n",
    "plt.xlabel('Relative Importance')\n",
    "plt.title('Variable Importance')\n",
    "plt.show()"
   ]
  },
  {
   "cell_type": "markdown",
   "metadata": {},
   "source": [
    "From the above plot, we see that *age* and *avg_glucose_level* are the two most important features.  They contribute close to 70% of the importance."
   ]
  },
  {
   "cell_type": "markdown",
   "metadata": {},
   "source": [
    "### Partial Dependence Plot of the 3 most important features"
   ]
  },
  {
   "cell_type": "code",
   "execution_count": 36,
   "metadata": {},
   "outputs": [
    {
     "data": {
      "text/plain": [
       "<sklearn.inspection._plot.partial_dependence.PartialDependenceDisplay at 0x1a593b04070>"
      ]
     },
     "execution_count": 36,
     "metadata": {},
     "output_type": "execute_result"
    },
    {
     "data": {
      "image/png": "[encoded data removed]",
      "text/plain": [
       "<Figure size 1080x432 with 4 Axes>"
      ]
     },
     "metadata": {
      "needs_background": "light"
     },
     "output_type": "display_data"
    }
   ],
   "source": [
    "fig, ax = plt.subplots(figsize=(15, 6))\n",
    "plot_partial_dependence(model_GB, X_train_encoded, [\"age\", \"avg_glucose_level\", \"bmi\"], ax=ax)"
   ]
  },
  {
   "cell_type": "markdown",
   "metadata": {},
   "source": [
    "The age and the average glucose level contribute the most to the risk of having stroke.  After the age of 40, the risk increases every year.  If a person has prediabetes or diabetes (average glucocse level above 150 mg/dL), the risk will also increase.  "
   ]
  }
 ],
 "metadata": {
  "kernelspec": {
   "display_name": "Python 3",
   "language": "python",
   "name": "python3"
  },
  "language_info": {
   "codemirror_mode": {
    "name": "ipython",
    "version": 3
   },
   "file_extension": ".py",
   "mimetype": "text/x-python",
   "name": "python",
   "nbconvert_exporter": "python",
   "pygments_lexer": "ipython3",
   "version": "3.8.5"
  }
 },
 "nbformat": 4,
 "nbformat_minor": 4
}
